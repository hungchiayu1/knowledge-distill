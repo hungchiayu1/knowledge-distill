{
 "cells": [
  {
   "cell_type": "code",
   "execution_count": 1,
   "id": "00844d67",
   "metadata": {},
   "outputs": [
    {
     "name": "stdout",
     "output_type": "stream",
     "text": [
      "Files already downloaded and verified\n",
      "Files already downloaded and verified\n"
     ]
    }
   ],
   "source": [
    "# %load train.py\n",
    "\n",
    "from load_dataset import download_dataset\n",
    "from load_model import create_teacher_model,create_student_model\n",
    "\n",
    "\n",
    "\n",
    "\n",
    "def train(classification_model,trainloader,testloader,optimizer,steps = 100,teacher_logits=None):\n",
    "    \n",
    "    \n",
    "    train_step = 0\n",
    "    running_loss = []\n",
    "    while True:\n",
    "        for batch_count,(batch,labels) in enumerate(trainloader):\n",
    "            if train_step>steps:\n",
    "                \n",
    "                return \n",
    "            \n",
    "            if teacher_logits:\n",
    "                \n",
    "                teacher_logit = teacher_logits[batch_count]\n",
    "                    \n",
    "                output_dict = classification_model(batch,teacher_logits=teacher_logit,labels=labels)\n",
    "            else:\n",
    "                output_dict = classification_model(batch,labels=labels)\n",
    "                \n",
    "            loss = output_dict['loss']\n",
    "            optimizer.zero_grad()\n",
    "            loss.backward()\n",
    "            optimizer.step()\n",
    "            \n",
    "            running_loss.append(loss.item())\n",
    "           \n",
    "            if train_step%100 == 0:\n",
    "                print(f\"Step:{train_step}. Train Loss {sum(running_loss)/len(running_loss)}\")\n",
    "                \n",
    "                running_loss = []\n",
    "            \n",
    "            if train_step%500 == 0:\n",
    "                \n",
    "                acc,test_loss = test(classification_model,testloader)\n",
    "                print(f\"Step:{train_step}. Validation loss: {test_loss}. Validation Accuracy: {acc}\")\n",
    "        \n",
    "            train_step+=1\n",
    "            \n",
    "            \n",
    "def test(classification_model,testloader):\n",
    "    \n",
    "    test_loss,correct = 0,0\n",
    "    for batch,labels in testloader:\n",
    "        \n",
    "        with torch.no_grad():\n",
    "            outputs = classification_model(batch,labels=labels)\n",
    "            logits = outputs['logits']\n",
    "            preds = torch.argmax(logits,axis=-1)\n",
    "            test_loss += outputs['loss'].item()\n",
    "            correct += (preds==labels).sum().item()\n",
    "    \n",
    "    \n",
    "    acc = correct/len(testloader.dataset)\n",
    "    test_loss = test_loss/len(testloader)\n",
    "    \n",
    "    return acc,test_loss\n",
    "\n",
    "if __name__ == \"__main__\":\n",
    "    \n",
    "    \n",
    "    trainloader,testloader = download_dataset()\n",
    "    \n",
    "    teacher_model = create_teacher_model()\n",
    "    student_model = create_student_model()\n",
    "   \n",
    "    \n",
    "    \n"
   ]
  },
  {
   "cell_type": "code",
   "execution_count": null,
   "id": "3d78dc15",
   "metadata": {},
   "outputs": [],
   "source": []
  }
 ],
 "metadata": {
  "kernelspec": {
   "display_name": "Python 3 (ipykernel)",
   "language": "python",
   "name": "python3"
  },
  "language_info": {
   "codemirror_mode": {
    "name": "ipython",
    "version": 3
   },
   "file_extension": ".py",
   "mimetype": "text/x-python",
   "name": "python",
   "nbconvert_exporter": "python",
   "pygments_lexer": "ipython3",
   "version": "3.8.13"
  }
 },
 "nbformat": 4,
 "nbformat_minor": 5
}
